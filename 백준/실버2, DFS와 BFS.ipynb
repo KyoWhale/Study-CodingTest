{
 "cells": [
  {
   "cell_type": "code",
   "execution_count": 20,
   "metadata": {},
   "outputs": [
    {
     "name": "stdout",
     "output_type": "stream",
     "text": [
      "1000 999 \n",
      "1000 999 "
     ]
    }
   ],
   "source": [
    "# 16:27 ~ 16:50\n",
    "\n",
    "def dfs(lines, visit, N, V):\n",
    "    if V in visit:\n",
    "        return\n",
    "    visit.append(V)\n",
    "    \n",
    "    if V in lines:\n",
    "        for e in lines[V]:\n",
    "            dfs(lines, visit, N, e)\n",
    "\n",
    "    return visit\n",
    "\n",
    "def bfs(lines, visit, N, V):\n",
    "    q = [V]\n",
    "\n",
    "    while q:\n",
    "        v = q.pop(0)\n",
    "        if v in visit:\n",
    "            continue\n",
    "        visit.append(v)\n",
    "        if v in lines:\n",
    "            q += lines[v]\n",
    "\n",
    "    return visit\n",
    "\n",
    "N, M, V = map(int, input().split())\n",
    "lines, visit = {}, []\n",
    "for _ in range(M):\n",
    "    s, e = map(int, input().split())\n",
    "    if s not in lines:\n",
    "        lines[s] = [e]\n",
    "    else:\n",
    "        lines[s] += [e]\n",
    "\n",
    "    if e not in lines:\n",
    "        lines[e] = [s]\n",
    "    else:\n",
    "        lines[e] += [s]\n",
    "\n",
    "for key in lines:\n",
    "    lines[key].sort()\n",
    "\n",
    "for v in dfs(lines, visit, N, V):\n",
    "    print(v, end=' ')\n",
    "print()\n",
    "visit = []\n",
    "for v in bfs(lines, visit, N, V):\n",
    "    print(v, end=' ')"
   ]
  }
 ],
 "metadata": {
  "kernelspec": {
   "display_name": "Python 3.9.10 64-bit",
   "language": "python",
   "name": "python3"
  },
  "language_info": {
   "codemirror_mode": {
    "name": "ipython",
    "version": 3
   },
   "file_extension": ".py",
   "mimetype": "text/x-python",
   "name": "python",
   "nbconvert_exporter": "python",
   "pygments_lexer": "ipython3",
   "version": "3.9.10"
  },
  "orig_nbformat": 4,
  "vscode": {
   "interpreter": {
    "hash": "aee8b7b246df8f9039afb4144a1f6fd8d2ca17a180786b69acc140d282b71a49"
   }
  }
 },
 "nbformat": 4,
 "nbformat_minor": 2
}
