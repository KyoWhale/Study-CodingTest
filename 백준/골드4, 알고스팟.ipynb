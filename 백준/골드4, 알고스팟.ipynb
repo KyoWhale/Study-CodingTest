{
 "cells": [
  {
   "cell_type": "code",
   "execution_count": 9,
   "metadata": {},
   "outputs": [
    {
     "name": "stdout",
     "output_type": "stream",
     "text": [
      "3\n"
     ]
    }
   ],
   "source": [
    "# 21:53 ~ 22:30\n",
    "\n",
    "import copy\n",
    "\n",
    "dx, dy = [1,0,-1,0], [0,1,0,-1]\n",
    "\n",
    "def bfs(room, Y, X):\n",
    "    miro = copy.deepcopy(room)\n",
    "    \n",
    "    visit = [[-1] * X for _ in range(Y)]\n",
    "    visit[0][0] = 0\n",
    "    q = [(0,0)]\n",
    "    while q:\n",
    "        x, y = q.pop(0)\n",
    "\n",
    "        for i in range(4):\n",
    "            nx, ny = x+dx[i], y+dy[i]\n",
    "\n",
    "            if 0 <= nx < X and 0 <= ny < Y and visit[ny][nx] == -1:\n",
    "                if miro[ny][nx] == '0':\n",
    "                    q.insert(0, (nx,ny))\n",
    "                    visit[ny][nx] = visit[y][x]\n",
    "                else:\n",
    "                    q.append((nx,ny))\n",
    "                    visit[ny][nx] = visit[y][x] + 1\n",
    "\n",
    "    return visit[Y-1][X-1]\n",
    "\n",
    "M, N = map(int, input().split())\n",
    "miro, walls = [], []\n",
    "for _ in range(N):\n",
    "    miro.append(list(input()))\n",
    "\n",
    "for y in range(N):\n",
    "    for x in range(M):\n",
    "        if miro[y][x] == '1':\n",
    "            walls.append((x,y))\n",
    "\n",
    "print(bfs(miro, N, M))"
   ]
  }
 ],
 "metadata": {
  "kernelspec": {
   "display_name": "Python 3.9.10 64-bit",
   "language": "python",
   "name": "python3"
  },
  "language_info": {
   "codemirror_mode": {
    "name": "ipython",
    "version": 3
   },
   "file_extension": ".py",
   "mimetype": "text/x-python",
   "name": "python",
   "nbconvert_exporter": "python",
   "pygments_lexer": "ipython3",
   "version": "3.9.10"
  },
  "orig_nbformat": 4,
  "vscode": {
   "interpreter": {
    "hash": "aee8b7b246df8f9039afb4144a1f6fd8d2ca17a180786b69acc140d282b71a49"
   }
  }
 },
 "nbformat": 4,
 "nbformat_minor": 2
}
