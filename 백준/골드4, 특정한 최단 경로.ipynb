{
 "cells": [
  {
   "cell_type": "code",
   "execution_count": 5,
   "metadata": {},
   "outputs": [
    {
     "name": "stdout",
     "output_type": "stream",
     "text": [
      "7\n"
     ]
    }
   ],
   "source": [
    "# 15:36 ~ 16:11 X 데이크엑스트라 오랜만이라 감 안 잡혀서 답지봄\n",
    "\n",
    "from heapq import heappush as push\n",
    "from heapq import heappop as pop\n",
    "\n",
    "def dijkstra(start, end):\n",
    "    distance = [10e9] * (N+1)\n",
    "    distance[start] = 0\n",
    "    q = [(0, start)]\n",
    "    while q:\n",
    "        cost, v1 = pop(q)\n",
    "        if cost > distance[v1]:\n",
    "            continue\n",
    "        for cost, v2 in graph[v1]:\n",
    "            if distance[v1] + cost < distance[v2]:\n",
    "                distance[v2] = distance[v1] + cost\n",
    "                push(q, (distance[v2], v2))\n",
    "\n",
    "    return distance[end]\n",
    "\n",
    "N, E = map(int, input().split())\n",
    "graph = [[] for _ in range(N+1)]\n",
    "for _ in range(E):\n",
    "    v1, v2, cost = map(int, input().split())\n",
    "    graph[v1].append((cost, v2))\n",
    "    graph[v2].append((cost, v1))\n",
    "V1, V2 = map(int, input().split())\n",
    "\n",
    "path_v1 = dijkstra(1, V1) + dijkstra(V1, V2) + dijkstra(V2, N)\n",
    "path_v2 = dijkstra(1, V2) + dijkstra(V2, V1) + dijkstra(V1, N)\n",
    "if path_v1 >= 10e9 or path_v2 >= 10e9:\n",
    "    print(-1)\n",
    "else:\n",
    "    print(min(path_v1, path_v2))"
   ]
  }
 ],
 "metadata": {
  "kernelspec": {
   "display_name": "Python 3.9.10 64-bit",
   "language": "python",
   "name": "python3"
  },
  "language_info": {
   "codemirror_mode": {
    "name": "ipython",
    "version": 3
   },
   "file_extension": ".py",
   "mimetype": "text/x-python",
   "name": "python",
   "nbconvert_exporter": "python",
   "pygments_lexer": "ipython3",
   "version": "3.9.10"
  },
  "orig_nbformat": 4,
  "vscode": {
   "interpreter": {
    "hash": "aee8b7b246df8f9039afb4144a1f6fd8d2ca17a180786b69acc140d282b71a49"
   }
  }
 },
 "nbformat": 4,
 "nbformat_minor": 2
}
