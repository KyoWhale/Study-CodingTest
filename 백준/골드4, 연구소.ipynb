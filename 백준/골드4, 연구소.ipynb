{
 "cells": [
  {
   "cell_type": "code",
   "execution_count": 6,
   "metadata": {},
   "outputs": [
    {
     "name": "stdout",
     "output_type": "stream",
     "text": [
      "9\n"
     ]
    }
   ],
   "source": [
    "# 17:28 ~ 18:10\n",
    "\n",
    "import copy\n",
    "from itertools import combinations\n",
    "\n",
    "dx, dy = [1,0,-1,0], [0,1,0,-1]\n",
    "\n",
    "def bfs(n,m,points,r,v):\n",
    "    room = copy.deepcopy(r)\n",
    "    virus = copy.deepcopy(v)\n",
    "\n",
    "    for x,y in points:\n",
    "        room[y][x] = 1\n",
    "    \n",
    "    while virus:\n",
    "        x,y = virus.pop()\n",
    "        for i in range(4):\n",
    "            nx, ny = x+dx[i], y+dy[i]\n",
    "            if 0 <= nx < m and 0 <= ny < n:\n",
    "                if room[ny][nx] == 0:\n",
    "                    room[ny][nx] = 2\n",
    "                    virus.append((nx,ny))\n",
    "    count = 0\n",
    "    for col in room:\n",
    "        for element in col:\n",
    "            if element == 0:\n",
    "                count += 1\n",
    "                \n",
    "    return count\n",
    "\n",
    "N, M = map(int, input().split())\n",
    "room, virus, empty = [], [], []\n",
    "for i in range(N):\n",
    "    room.append(list(map(int, input().split())))\n",
    "for y in range(N):\n",
    "    for x in range(M):\n",
    "        if room[y][x] == 2:\n",
    "            virus.append((x,y))\n",
    "        elif room[y][x] == 0:\n",
    "            empty.append((x,y))\n",
    "\n",
    "answer = 0\n",
    "for walls in combinations(empty,3):\n",
    "    answer = max(answer, bfs(N, M, walls, room, virus))\n",
    "\n",
    "print(answer)"
   ]
  }
 ],
 "metadata": {
  "kernelspec": {
   "display_name": "Python 3.9.10 64-bit",
   "language": "python",
   "name": "python3"
  },
  "language_info": {
   "codemirror_mode": {
    "name": "ipython",
    "version": 3
   },
   "file_extension": ".py",
   "mimetype": "text/x-python",
   "name": "python",
   "nbconvert_exporter": "python",
   "pygments_lexer": "ipython3",
   "version": "3.9.10"
  },
  "orig_nbformat": 4,
  "vscode": {
   "interpreter": {
    "hash": "aee8b7b246df8f9039afb4144a1f6fd8d2ca17a180786b69acc140d282b71a49"
   }
  }
 },
 "nbformat": 4,
 "nbformat_minor": 2
}
