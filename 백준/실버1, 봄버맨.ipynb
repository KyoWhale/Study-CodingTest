{
 "cells": [
  {
   "cell_type": "code",
   "execution_count": 4,
   "metadata": {},
   "outputs": [
    {
     "name": "stdout",
     "output_type": "stream",
     "text": [
      "OOO.OOO\n",
      "OO...OO\n",
      "OOO...O\n",
      "..OO.OO\n",
      "...OOOO\n",
      "...OOOO\n"
     ]
    }
   ],
   "source": [
    "# 18:08 ~ 18:33 채점 틀림 안 고침\n",
    "# 순환이 아니라는 정보 얻음 뜯어고쳐야함\n",
    "\n",
    "R, C, N = map(int, input().split())\n",
    "table = [list(input().strip()) for _ in range(R)]\n",
    "\n",
    "dx, dy = [1,0,-1,0], [0,1,0,-1]\n",
    "N %= 4\n",
    "\n",
    "if N == 0 or N == 2:\n",
    "    for i in range(R):\n",
    "        for j in range(C):\n",
    "            table[i][j] = 'O'\n",
    "elif N == 3:\n",
    "    bomb_point = set()\n",
    "    for i in range(R):\n",
    "        for j in range(C):\n",
    "            if table[i][j] == 'O':\n",
    "                for d in range(4):\n",
    "                    bomb_point.add((j,i))\n",
    "                    nx, ny = j+dx[d], i+dy[d]\n",
    "                    if 0 <= nx < C and 0 <= ny < R:\n",
    "                        bomb_point.add((nx,ny))\n",
    "\n",
    "    for i in range(R):\n",
    "        for j in range(C):\n",
    "            table[i][j] = 'O'\n",
    "    for x,y in bomb_point:\n",
    "        table[y][x] = '.'\n",
    "\n",
    "for i in range(R):\n",
    "    for j in range(C):\n",
    "        print(table[i][j], end='')\n",
    "    print()"
   ]
  }
 ],
 "metadata": {
  "kernelspec": {
   "display_name": "Python 3.9.10 64-bit",
   "language": "python",
   "name": "python3"
  },
  "language_info": {
   "codemirror_mode": {
    "name": "ipython",
    "version": 3
   },
   "file_extension": ".py",
   "mimetype": "text/x-python",
   "name": "python",
   "nbconvert_exporter": "python",
   "pygments_lexer": "ipython3",
   "version": "3.9.10"
  },
  "orig_nbformat": 4,
  "vscode": {
   "interpreter": {
    "hash": "aee8b7b246df8f9039afb4144a1f6fd8d2ca17a180786b69acc140d282b71a49"
   }
  }
 },
 "nbformat": 4,
 "nbformat_minor": 2
}
