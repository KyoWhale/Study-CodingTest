{
 "cells": [
  {
   "cell_type": "code",
   "execution_count": 11,
   "metadata": {},
   "outputs": [
    {
     "name": "stdout",
     "output_type": "stream",
     "text": [
      "0 2 3 1 4 \n",
      "12 0 15 2 5 \n",
      "8 5 0 1 1 \n",
      "10 7 13 0 3 \n",
      "7 4 10 6 0 \n"
     ]
    }
   ],
   "source": [
    "# 17:31 ~ 17:45\n",
    "\n",
    "N, M = int(input()), int(input())\n",
    "graph = [[10e9] * N for _ in range(N)]\n",
    "for _ in range(M):\n",
    "    start, end, cost = map(int, input().split())\n",
    "    graph[start-1][end-1] = min(graph[start-1][end-1], cost)\n",
    "\n",
    "for k in range(N):\n",
    "    for i in range(N):\n",
    "        for j in range(N):\n",
    "            if i == j or i == k or j == k:\n",
    "                continue\n",
    "            if graph[i][j] > graph[i][k] + graph[k][j]:\n",
    "                graph[i][j] = graph[i][k] + graph[k][j]\n",
    "\n",
    "for i in range(N):\n",
    "    for j in range(N):\n",
    "        if graph[i][j] == 10e9:\n",
    "            print(0, end=' ')\n",
    "        else:\n",
    "            print(graph[i][j], end=' ')\n",
    "    print()"
   ]
  }
 ],
 "metadata": {
  "kernelspec": {
   "display_name": "Python 3.9.10 64-bit",
   "language": "python",
   "name": "python3"
  },
  "language_info": {
   "codemirror_mode": {
    "name": "ipython",
    "version": 3
   },
   "file_extension": ".py",
   "mimetype": "text/x-python",
   "name": "python",
   "nbconvert_exporter": "python",
   "pygments_lexer": "ipython3",
   "version": "3.9.10"
  },
  "orig_nbformat": 4,
  "vscode": {
   "interpreter": {
    "hash": "aee8b7b246df8f9039afb4144a1f6fd8d2ca17a180786b69acc140d282b71a49"
   }
  }
 },
 "nbformat": 4,
 "nbformat_minor": 2
}
