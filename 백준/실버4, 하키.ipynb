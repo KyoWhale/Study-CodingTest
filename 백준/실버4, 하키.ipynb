{
 "cells": [
  {
   "cell_type": "code",
   "execution_count": 10,
   "metadata": {},
   "outputs": [
    {
     "name": "stdout",
     "output_type": "stream",
     "text": [
      "8\n"
     ]
    }
   ],
   "source": [
    "# 15:33 ~ 15:55\n",
    "\n",
    "W, H, X, Y, P = map(int, input().split())\n",
    "radius = H / 2\n",
    "cx, cy = X, Y + radius\n",
    "\n",
    "def isInArea(x, y):\n",
    "    if x < X - radius or X + W + radius < x or y < Y or Y + H < y:\n",
    "        return False\n",
    "\n",
    "    if X <= x <= X + W:\n",
    "        return True\n",
    "\n",
    "    if X - radius <= x <= X:\n",
    "        if abs(cx-x)**2 + abs(cy-y)**2 <= radius**2:\n",
    "            return True\n",
    "    else:\n",
    "        if abs(cx+W-x)**2 + abs(cy-y)**2 <= radius**2:\n",
    "            return True\n",
    "\n",
    "    return False\n",
    "\n",
    "result = 0\n",
    "for _ in range(P):\n",
    "    x, y = map(int, input().split())\n",
    "    if isInArea(x,y):\n",
    "        result += 1\n",
    "\n",
    "print(result)"
   ]
  }
 ],
 "metadata": {
  "kernelspec": {
   "display_name": "Python 3.9.10 64-bit",
   "language": "python",
   "name": "python3"
  },
  "language_info": {
   "codemirror_mode": {
    "name": "ipython",
    "version": 3
   },
   "file_extension": ".py",
   "mimetype": "text/x-python",
   "name": "python",
   "nbconvert_exporter": "python",
   "pygments_lexer": "ipython3",
   "version": "3.9.10"
  },
  "orig_nbformat": 4,
  "vscode": {
   "interpreter": {
    "hash": "aee8b7b246df8f9039afb4144a1f6fd8d2ca17a180786b69acc140d282b71a49"
   }
  }
 },
 "nbformat": 4,
 "nbformat_minor": 2
}
