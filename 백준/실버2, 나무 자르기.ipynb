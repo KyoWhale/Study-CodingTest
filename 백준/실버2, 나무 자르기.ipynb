{
 "cells": [
  {
   "cell_type": "code",
   "execution_count": 11,
   "metadata": {},
   "outputs": [
    {
     "name": "stdout",
     "output_type": "stream",
     "text": [
      "36\n"
     ]
    }
   ],
   "source": [
    "# 14:57 ~ 15:17\n",
    "import sys\n",
    "input = sys.stdin.readline\n",
    "\n",
    "N, M = map(int, input().split())\n",
    "trees = list(map(int, input().split()))\n",
    "\n",
    "left, right = 1, max(trees)\n",
    "while left <= right:\n",
    "    mid = (left+right)//2\n",
    "\n",
    "    length = 0\n",
    "    for tree in trees:\n",
    "        if tree > mid:\n",
    "            length += tree - mid\n",
    "    \n",
    "    if length >= M:\n",
    "        left = mid+1\n",
    "    else:\n",
    "        right = mid-1\n",
    "\n",
    "print(right)"
   ]
  }
 ],
 "metadata": {
  "kernelspec": {
   "display_name": "Python 3.9.10 64-bit",
   "language": "python",
   "name": "python3"
  },
  "language_info": {
   "codemirror_mode": {
    "name": "ipython",
    "version": 3
   },
   "file_extension": ".py",
   "mimetype": "text/x-python",
   "name": "python",
   "nbconvert_exporter": "python",
   "pygments_lexer": "ipython3",
   "version": "3.9.10"
  },
  "orig_nbformat": 4,
  "vscode": {
   "interpreter": {
    "hash": "aee8b7b246df8f9039afb4144a1f6fd8d2ca17a180786b69acc140d282b71a49"
   }
  }
 },
 "nbformat": 4,
 "nbformat_minor": 2
}
