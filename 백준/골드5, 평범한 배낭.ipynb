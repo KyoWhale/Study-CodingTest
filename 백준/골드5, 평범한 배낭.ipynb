{
 "cells": [
  {
   "cell_type": "code",
   "execution_count": 5,
   "metadata": {},
   "outputs": [
    {
     "name": "stdout",
     "output_type": "stream",
     "text": [
      "14\n"
     ]
    }
   ],
   "source": [
    "# 14:39 ~ 15:05 X\n",
    "\n",
    "N, K = map(int, input().split())\n",
    "dp = [0] * (K+1)\n",
    "stuff = []\n",
    "for _ in range(N):\n",
    "    W, V = map(int, input().split())\n",
    "    stuff.append((W, V))\n",
    "\n",
    "for w, v in stuff:\n",
    "    for i in range(K, w-1, -1):\n",
    "        dp[i] = max(dp[i], dp[i-w]+v)\n",
    "\n",
    "print(dp[K])"
   ]
  }
 ],
 "metadata": {
  "kernelspec": {
   "display_name": "Python 3.9.10 64-bit",
   "language": "python",
   "name": "python3"
  },
  "language_info": {
   "codemirror_mode": {
    "name": "ipython",
    "version": 3
   },
   "file_extension": ".py",
   "mimetype": "text/x-python",
   "name": "python",
   "nbconvert_exporter": "python",
   "pygments_lexer": "ipython3",
   "version": "3.9.10"
  },
  "orig_nbformat": 4,
  "vscode": {
   "interpreter": {
    "hash": "aee8b7b246df8f9039afb4144a1f6fd8d2ca17a180786b69acc140d282b71a49"
   }
  }
 },
 "nbformat": 4,
 "nbformat_minor": 2
}
