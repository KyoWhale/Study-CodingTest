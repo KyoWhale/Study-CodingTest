{
 "cells": [
  {
   "cell_type": "code",
   "execution_count": 6,
   "metadata": {},
   "outputs": [
    {
     "name": "stdout",
     "output_type": "stream",
     "text": [
      "200\n"
     ]
    }
   ],
   "source": [
    "# 13:28 ~ 14:00 X 비슷하게 풀었지만 count >= N 부분을 틀려서 못 품\n",
    "\n",
    "K, N = map(int, input().split())\n",
    "cables = [int(input()) for _ in range(K)]\n",
    "left, right = 1, max(cables)\n",
    "\n",
    "while left <= right:\n",
    "    mid = (left + right) // 2\n",
    "    count = 0\n",
    "    for cable in cables:\n",
    "        count += cable // mid\n",
    "    \n",
    "    if count >= N:\n",
    "        left = mid+1\n",
    "    else:\n",
    "        right = mid-1\n",
    "\n",
    "print(right)"
   ]
  }
 ],
 "metadata": {
  "kernelspec": {
   "display_name": "Python 3.9.10 64-bit",
   "language": "python",
   "name": "python3"
  },
  "language_info": {
   "codemirror_mode": {
    "name": "ipython",
    "version": 3
   },
   "file_extension": ".py",
   "mimetype": "text/x-python",
   "name": "python",
   "nbconvert_exporter": "python",
   "pygments_lexer": "ipython3",
   "version": "3.9.10"
  },
  "orig_nbformat": 4,
  "vscode": {
   "interpreter": {
    "hash": "aee8b7b246df8f9039afb4144a1f6fd8d2ca17a180786b69acc140d282b71a49"
   }
  }
 },
 "nbformat": 4,
 "nbformat_minor": 2
}
