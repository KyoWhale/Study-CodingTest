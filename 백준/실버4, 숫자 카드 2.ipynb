{
 "cells": [
  {
   "cell_type": "code",
   "execution_count": 2,
   "metadata": {},
   "outputs": [
    {
     "name": "stdout",
     "output_type": "stream",
     "text": [
      "3 0 0 1 2 0 0 2 "
     ]
    }
   ],
   "source": [
    "# 17:13 ~ 17:22\n",
    "\n",
    "N_len = int(input())\n",
    "N = list(map(int, input().split()))\n",
    "M_len = int(input())\n",
    "M = list(map(int, input().split()))\n",
    "\n",
    "N_dict = {}\n",
    "for n in N:\n",
    "    if n in N_dict:\n",
    "        N_dict[n] += 1\n",
    "    else:\n",
    "        N_dict[n] = 1\n",
    "for m in M:\n",
    "    if m not in N_dict:\n",
    "        print('0', end=' ')\n",
    "    else:\n",
    "        print(N_dict[m], end=' ')"
   ]
  }
 ],
 "metadata": {
  "kernelspec": {
   "display_name": "Python 3.9.10 64-bit",
   "language": "python",
   "name": "python3"
  },
  "language_info": {
   "codemirror_mode": {
    "name": "ipython",
    "version": 3
   },
   "file_extension": ".py",
   "mimetype": "text/x-python",
   "name": "python",
   "nbconvert_exporter": "python",
   "pygments_lexer": "ipython3",
   "version": "3.9.10"
  },
  "orig_nbformat": 4,
  "vscode": {
   "interpreter": {
    "hash": "aee8b7b246df8f9039afb4144a1f6fd8d2ca17a180786b69acc140d282b71a49"
   }
  }
 },
 "nbformat": 4,
 "nbformat_minor": 2
}
