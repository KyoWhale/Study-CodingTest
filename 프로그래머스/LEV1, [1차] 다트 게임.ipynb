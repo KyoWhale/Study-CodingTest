{
 "cells": [
  {
   "cell_type": "code",
   "execution_count": 10,
   "metadata": {},
   "outputs": [
    {
     "name": "stdout",
     "output_type": "stream",
     "text": [
      "[4, 16, 3]\n"
     ]
    },
    {
     "data": {
      "text/plain": [
       "23"
      ]
     },
     "execution_count": 10,
     "metadata": {},
     "output_type": "execute_result"
    }
   ],
   "source": [
    "# 15:03 ~ 15:35\n",
    "\n",
    "def solution(dartResult):\n",
    "    dart = []\n",
    "    answer = []\n",
    "\n",
    "    while dartResult:\n",
    "        s,d,t = dartResult.find('S'), dartResult.find('D'), dartResult.find('T')\n",
    "        bonus_index = min([i for i in [s,d,t] if i > -1])\n",
    "        bonus = dartResult[bonus_index]\n",
    "        if bonus == 'S':\n",
    "            bonus = 1\n",
    "        elif bonus == 'D':\n",
    "            bonus = 2\n",
    "        else:\n",
    "            bonus = 3\n",
    "        score = int(dartResult[:bonus_index])\n",
    "        if (bonus_index+1) < len(dartResult) and (dartResult[bonus_index+1] == '*' or dartResult[bonus_index+1] == '#'):\n",
    "            option = dartResult[bonus_index+1]\n",
    "            dartResult = dartResult[bonus_index+2:]\n",
    "        else:\n",
    "            option = 1\n",
    "            dartResult = dartResult[bonus_index+1:]\n",
    "\n",
    "        dart.append((score, bonus, option))\n",
    "\n",
    "    for score, bonus, option in dart:\n",
    "        result = score ** bonus\n",
    "        if option == '#':\n",
    "            result = -result\n",
    "        answer.append(result)\n",
    "\n",
    "    if dart[0][2] == \"*\":\n",
    "        answer[0] *= 2\n",
    "    if dart[1][2] == \"*\":\n",
    "        answer[0] *= 2\n",
    "        answer[1] *= 2\n",
    "    if dart[2][2] == '*':\n",
    "        answer[1] *= 2\n",
    "        answer[2] *= 2\n",
    "\n",
    "    return sum(answer)\n",
    "\n",
    "solution(\"1S*2T*3S\")"
   ]
  }
 ],
 "metadata": {
  "kernelspec": {
   "display_name": "Python 3.9.10 64-bit",
   "language": "python",
   "name": "python3"
  },
  "language_info": {
   "codemirror_mode": {
    "name": "ipython",
    "version": 3
   },
   "file_extension": ".py",
   "mimetype": "text/x-python",
   "name": "python",
   "nbconvert_exporter": "python",
   "pygments_lexer": "ipython3",
   "version": "3.9.10"
  },
  "orig_nbformat": 4,
  "vscode": {
   "interpreter": {
    "hash": "aee8b7b246df8f9039afb4144a1f6fd8d2ca17a180786b69acc140d282b71a49"
   }
  }
 },
 "nbformat": 4,
 "nbformat_minor": 2
}
