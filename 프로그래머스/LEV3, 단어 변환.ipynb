{
 "cells": [
  {
   "cell_type": "code",
   "execution_count": 21,
   "metadata": {},
   "outputs": [
    {
     "data": {
      "text/plain": [
       "4"
      ]
     },
     "execution_count": 21,
     "metadata": {},
     "output_type": "execute_result"
    }
   ],
   "source": [
    "# 13:38 ~ 14:15\n",
    "\n",
    "def solution(begin, target, words):\n",
    "    answer = []\n",
    "    visit = []\n",
    "    q = [(begin, 1)]\n",
    "    while q:\n",
    "        current, transition = q.pop(0)\n",
    "        if current in visit:\n",
    "            continue\n",
    "        visit.append(current)\n",
    "\n",
    "        for word in words:\n",
    "            count = 0\n",
    "            for c1, c2 in zip(current, word):\n",
    "                if c1 != c2:\n",
    "                    count += 1\n",
    "                    if count > 1:\n",
    "                        break\n",
    "            if count == 1:\n",
    "                if word == target:\n",
    "                    answer.append(transition)\n",
    "                q.append((word,transition+1))\n",
    "\n",
    "    if answer:\n",
    "        return min(answer)\n",
    "    return 0\n",
    "\n",
    "solution(\"hit\",\"cog\",[\"hot\", \"dot\", \"dog\", \"lot\", \"log\", \"cog\"])"
   ]
  }
 ],
 "metadata": {
  "kernelspec": {
   "display_name": "Python 3.9.10 64-bit",
   "language": "python",
   "name": "python3"
  },
  "language_info": {
   "codemirror_mode": {
    "name": "ipython",
    "version": 3
   },
   "file_extension": ".py",
   "mimetype": "text/x-python",
   "name": "python",
   "nbconvert_exporter": "python",
   "pygments_lexer": "ipython3",
   "version": "3.9.10"
  },
  "orig_nbformat": 4,
  "vscode": {
   "interpreter": {
    "hash": "aee8b7b246df8f9039afb4144a1f6fd8d2ca17a180786b69acc140d282b71a49"
   }
  }
 },
 "nbformat": 4,
 "nbformat_minor": 2
}
