{
 "cells": [
  {
   "cell_type": "code",
   "execution_count": 19,
   "metadata": {},
   "outputs": [
    {
     "data": {
      "text/plain": [
       "['#####', '# # #', '### #', '#  ##', '#####']"
      ]
     },
     "execution_count": 19,
     "metadata": {},
     "output_type": "execute_result"
    }
   ],
   "source": [
    "# 14:43 ~ 14:59\n",
    "\n",
    "def masking(s1, s2, length):\n",
    "    mask = ''\n",
    "    s1 = (length - len(s1)) * '0' + s1\n",
    "    s2 = (length - len(s2)) * '0' + s2\n",
    "    \n",
    "    for b1, b2 in zip(s1, s2):\n",
    "        if b1 == '1' or b2 =='1':\n",
    "            mask += '#'\n",
    "        else:\n",
    "            mask += ' '\n",
    "    return mask\n",
    "\n",
    "def solution(n, arr1, arr2):\n",
    "    answer = []\n",
    "\n",
    "    for a1, a2 in zip(arr1, arr2):\n",
    "        answer.append(masking(bin(a1)[2:], bin(a2)[2:], n))\n",
    "\n",
    "    return answer\n",
    "\n",
    "solution(5, [9,20,28,18,11], [30,1,21,17,28])"
   ]
  }
 ],
 "metadata": {
  "kernelspec": {
   "display_name": "Python 3.9.10 64-bit",
   "language": "python",
   "name": "python3"
  },
  "language_info": {
   "codemirror_mode": {
    "name": "ipython",
    "version": 3
   },
   "file_extension": ".py",
   "mimetype": "text/x-python",
   "name": "python",
   "nbconvert_exporter": "python",
   "pygments_lexer": "ipython3",
   "version": "3.9.10"
  },
  "orig_nbformat": 4,
  "vscode": {
   "interpreter": {
    "hash": "aee8b7b246df8f9039afb4144a1f6fd8d2ca17a180786b69acc140d282b71a49"
   }
  }
 },
 "nbformat": 4,
 "nbformat_minor": 2
}
