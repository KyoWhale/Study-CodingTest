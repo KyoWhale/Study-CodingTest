{
 "cells": [
  {
   "cell_type": "code",
   "execution_count": 13,
   "metadata": {},
   "outputs": [
    {
     "data": {
      "text/plain": [
       "0"
      ]
     },
     "execution_count": 13,
     "metadata": {},
     "output_type": "execute_result"
    }
   ],
   "source": [
    "# 16:20 ~ 16:35\n",
    "\n",
    "import heapq\n",
    "\n",
    "def solution(n, works):\n",
    "    heap = []\n",
    "\n",
    "    for work in works:\n",
    "        heapq.heappush(heap, -work)\n",
    "\n",
    "    while n:\n",
    "        element = heapq.heappop(heap)\n",
    "        if element == 0:\n",
    "            break\n",
    "        heapq.heappush(heap, element + 1)\n",
    "        n -= 1\n",
    "\n",
    "    return sum([work**2 for work in heap])\n",
    "\n",
    "# solution(4,[4,3,3])\n",
    "# solution(1, [2,1,2])\n",
    "solution(3, [1,1])"
   ]
  },
  {
   "cell_type": "code",
   "execution_count": null,
   "metadata": {},
   "outputs": [],
   "source": [
    "#답 보고 조건 변경한 코드\n",
    "\n",
    "import heapq\n",
    "\n",
    "def solution(n, works):\n",
    "    if sum(works) <= n:\n",
    "        return 0\n",
    "\n",
    "    heap = []\n",
    "    for work in works:\n",
    "        heapq.heappush(heap, -work)\n",
    "\n",
    "    while n:\n",
    "        heapq.heappush(heap, heapq.heappop(heap) + 1)\n",
    "        n -= 1\n",
    "\n",
    "    return sum([work**2 for work in heap])"
   ]
  }
 ],
 "metadata": {
  "kernelspec": {
   "display_name": "Python 3.9.10 64-bit",
   "language": "python",
   "name": "python3"
  },
  "language_info": {
   "codemirror_mode": {
    "name": "ipython",
    "version": 3
   },
   "file_extension": ".py",
   "mimetype": "text/x-python",
   "name": "python",
   "nbconvert_exporter": "python",
   "pygments_lexer": "ipython3",
   "version": "3.9.10"
  },
  "orig_nbformat": 4,
  "vscode": {
   "interpreter": {
    "hash": "aee8b7b246df8f9039afb4144a1f6fd8d2ca17a180786b69acc140d282b71a49"
   }
  }
 },
 "nbformat": 4,
 "nbformat_minor": 2
}
