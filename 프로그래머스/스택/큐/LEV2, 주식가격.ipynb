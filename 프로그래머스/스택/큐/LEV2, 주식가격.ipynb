{
 "cells": [
  {
   "cell_type": "code",
   "execution_count": 24,
   "metadata": {},
   "outputs": [
    {
     "data": {
      "text/plain": [
       "[4, 3, 1, 1, 0]"
      ]
     },
     "execution_count": 24,
     "metadata": {},
     "output_type": "execute_result"
    }
   ],
   "source": [
    "#16:50 ~ 17:17\n",
    "\n",
    "def solution(prices):\n",
    "    answer = []\n",
    "\n",
    "    for i in range(len(prices)):\n",
    "        current_price = prices[i]\n",
    "        count = 0\n",
    "        for j in range(i+1,len(prices)):\n",
    "            count += 1\n",
    "            if current_price > prices[j]:\n",
    "                break\n",
    "        \n",
    "        answer.append(count)\n",
    "\n",
    "    return answer\n",
    "\n",
    "solution([1,2,3,2,3])"
   ]
  }
 ],
 "metadata": {
  "kernelspec": {
   "display_name": "Python 3.9.10 64-bit",
   "language": "python",
   "name": "python3"
  },
  "language_info": {
   "codemirror_mode": {
    "name": "ipython",
    "version": 3
   },
   "file_extension": ".py",
   "mimetype": "text/x-python",
   "name": "python",
   "nbconvert_exporter": "python",
   "pygments_lexer": "ipython3",
   "version": "3.9.10"
  },
  "orig_nbformat": 4,
  "vscode": {
   "interpreter": {
    "hash": "aee8b7b246df8f9039afb4144a1f6fd8d2ca17a180786b69acc140d282b71a49"
   }
  }
 },
 "nbformat": 4,
 "nbformat_minor": 2
}
