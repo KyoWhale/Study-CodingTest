{
 "cells": [
  {
   "cell_type": "code",
   "execution_count": 14,
   "metadata": {},
   "outputs": [
    {
     "data": {
      "text/plain": [
       "True"
      ]
     },
     "execution_count": 14,
     "metadata": {},
     "output_type": "execute_result"
    }
   ],
   "source": [
    "# 14:06 ~ 14:16\n",
    "\n",
    "def solution(s):\n",
    "    index = 0\n",
    "    stack = []\n",
    "    while index < len(s):\n",
    "        stack.append(s[index])\n",
    "        index += 1\n",
    "        while len(stack) > 1 and stack[-2] == '(' and stack[-1] == ')':\n",
    "            stack.pop()\n",
    "            stack.pop()\n",
    "\n",
    "    if stack:\n",
    "        return False\n",
    "    else:\n",
    "        return True\n",
    "\n",
    "solution(\"()()\")\n",
    "# solution(\"(())()\")\n",
    "# solution(\")()(\")\n",
    "# solution(\"(()(\")"
   ]
  }
 ],
 "metadata": {
  "kernelspec": {
   "display_name": "Python 3.9.10 64-bit",
   "language": "python",
   "name": "python3"
  },
  "language_info": {
   "codemirror_mode": {
    "name": "ipython",
    "version": 3
   },
   "file_extension": ".py",
   "mimetype": "text/x-python",
   "name": "python",
   "nbconvert_exporter": "python",
   "pygments_lexer": "ipython3",
   "version": "3.9.10"
  },
  "orig_nbformat": 4,
  "vscode": {
   "interpreter": {
    "hash": "aee8b7b246df8f9039afb4144a1f6fd8d2ca17a180786b69acc140d282b71a49"
   }
  }
 },
 "nbformat": 4,
 "nbformat_minor": 2
}
