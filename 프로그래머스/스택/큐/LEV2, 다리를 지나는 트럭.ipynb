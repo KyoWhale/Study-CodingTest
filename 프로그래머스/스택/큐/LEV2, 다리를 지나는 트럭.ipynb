{
 "cells": [
  {
   "cell_type": "code",
   "execution_count": 25,
   "metadata": {},
   "outputs": [
    {
     "data": {
      "text/plain": [
       "407"
      ]
     },
     "execution_count": 25,
     "metadata": {},
     "output_type": "execute_result"
    }
   ],
   "source": [
    "#15:24 ~ 16:19 X\n",
    "#순서대로라는 기준이 있었음에도 읽지 못하고 정렬했음\n",
    "\n",
    "def solution(bridge_length, bridge_weight, truck_weights):\n",
    "    truck_weights = sorted(truck_weights, reverse=True)\n",
    "\n",
    "    if len(truck_weights) == 1:\n",
    "        return bridge_length + 1\n",
    "    \n",
    "    current_second = 1\n",
    "    current_weight = [truck_weights.pop()]\n",
    "    while truck_weights:\n",
    "        if sum(current_weight) + truck_weights[-1] <= bridge_weight:\n",
    "            current_weight.append(truck_weights.pop())\n",
    "            if len(current_weight) > 1:\n",
    "                current_second += 1\n",
    "        else:\n",
    "            if current_weight[-1] + truck_weights[-1] <= bridge_weight:\n",
    "                current_weight.pop(0)\n",
    "                current_second += bridge_length\n",
    "            else:\n",
    "                current_second += len(current_weight) + len(truck_weights) * bridge_length\n",
    "                current_weight.clear()\n",
    "                truck_weights.clear()\n",
    "\n",
    "    return current_second\n",
    "\n",
    "# solution(2, 10, [7,4,5,6])\n",
    "# solution(100, 100, [10])\n",
    "# solution(100, 100, [10,10,10,10,10,10,10,10,10,10])\n",
    "solution(100, 10, [1,2,3,4,5,6])"
   ]
  },
  {
   "cell_type": "code",
   "execution_count": 38,
   "metadata": {},
   "outputs": [
    {
     "data": {
      "text/plain": [
       "303"
      ]
     },
     "execution_count": 38,
     "metadata": {},
     "output_type": "execute_result"
    }
   ],
   "source": [
    "# 다리 길이 자체를 큐로 본다라는 개념\n",
    "def solution(bridge_length, bridge_weight, truck_weights):\n",
    "    bridge_queue = [0] * bridge_length\n",
    "    second = 0\n",
    "\n",
    "    while len(bridge_queue):\n",
    "        bridge_queue.pop(0)\n",
    "        second += 1\n",
    "        if truck_weights:\n",
    "            if sum(bridge_queue) + truck_weights[0] <= bridge_weight:\n",
    "                bridge_queue.append(truck_weights.pop(0))\n",
    "            else:\n",
    "                bridge_queue.append(0)\n",
    "\n",
    "    return second\n",
    "\n",
    "# solution(2, 10, [7,4,5,6])\n",
    "# solution(100, 100, [10])\n",
    "# solution(100, 100, [10,10,10,10,10,10,10,10,10,10])\n",
    "# solution(100, 10, [1,2,3,4,5,6])"
   ]
  }
 ],
 "metadata": {
  "kernelspec": {
   "display_name": "Python 3.9.10 64-bit",
   "language": "python",
   "name": "python3"
  },
  "language_info": {
   "codemirror_mode": {
    "name": "ipython",
    "version": 3
   },
   "file_extension": ".py",
   "mimetype": "text/x-python",
   "name": "python",
   "nbconvert_exporter": "python",
   "pygments_lexer": "ipython3",
   "version": "3.9.10"
  },
  "orig_nbformat": 4,
  "vscode": {
   "interpreter": {
    "hash": "aee8b7b246df8f9039afb4144a1f6fd8d2ca17a180786b69acc140d282b71a49"
   }
  }
 },
 "nbformat": 4,
 "nbformat_minor": 2
}
