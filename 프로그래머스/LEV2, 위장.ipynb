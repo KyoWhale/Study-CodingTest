{
 "cells": [
  {
   "cell_type": "code",
   "execution_count": 39,
   "metadata": {},
   "outputs": [
    {
     "data": {
      "text/plain": [
       "26"
      ]
     },
     "execution_count": 39,
     "metadata": {},
     "output_type": "execute_result"
    }
   ],
   "source": [
    "# 15:02 ~ X\n",
    "\n",
    "def solution(clothes):\n",
    "    dic = {}\n",
    "\n",
    "    for cloth, part in clothes:\n",
    "        dic[part] = dic.get(part,0) + 1\n",
    "\n",
    "    answer = 1\n",
    "    for part in dic:\n",
    "        answer *= (dic[part] + 1)\n",
    "\n",
    "    return answer - 1\n",
    "\n",
    "# solution([[\"yellow_hat\", \"headgear\"], [\"blue_sunglasses\", \"eyewear\"], [\"green_turban\", \"headgear\"]])\n",
    "\n",
    "solution([[\"a\", \"headgear\"], [\"b\", \"headgear\"], [\"c\", \"eyewear\"], [\"d\", \"eyewear\"], [\"e\", \"face\"], [\"f\", \"face\"]])"
   ]
  }
 ],
 "metadata": {
  "kernelspec": {
   "display_name": "Python 3.9.10 64-bit",
   "language": "python",
   "name": "python3"
  },
  "language_info": {
   "codemirror_mode": {
    "name": "ipython",
    "version": 3
   },
   "file_extension": ".py",
   "mimetype": "text/x-python",
   "name": "python",
   "nbconvert_exporter": "python",
   "pygments_lexer": "ipython3",
   "version": "3.9.10"
  },
  "orig_nbformat": 4,
  "vscode": {
   "interpreter": {
    "hash": "aee8b7b246df8f9039afb4144a1f6fd8d2ca17a180786b69acc140d282b71a49"
   }
  }
 },
 "nbformat": 4,
 "nbformat_minor": 2
}
