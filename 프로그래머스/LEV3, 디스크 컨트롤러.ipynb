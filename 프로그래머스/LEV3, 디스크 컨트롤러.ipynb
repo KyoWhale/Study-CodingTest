{
 "cells": [
  {
   "cell_type": "code",
   "execution_count": 20,
   "metadata": {},
   "outputs": [
    {
     "data": {
      "text/plain": [
       "9"
      ]
     },
     "execution_count": 20,
     "metadata": {},
     "output_type": "execute_result"
    }
   ],
   "source": [
    "# 13:01 ~ X\n",
    "import heapq\n",
    "\n",
    "def solution(jobs):\n",
    "    jobs.sort()\n",
    "    answer = 0\n",
    "    start, now, i = -1, 0, 0\n",
    "    heap = []\n",
    "\n",
    "    while i < len(jobs):\n",
    "        for job_request, job_spend in jobs[i:]:\n",
    "            if start < job_request <= now:\n",
    "                heapq.heappush(heap, (job_spend, job_request))\n",
    "        if heap:\n",
    "            job_spend, job_request = heapq.heappop(heap)\n",
    "            start = now\n",
    "            now += job_spend\n",
    "            answer += (now - job_request)\n",
    "            i += 1\n",
    "        else:\n",
    "            now += 1\n",
    "\n",
    "    return int(answer / len(jobs))\n",
    "\n",
    "solution([[0, 3], [2, 6], [1, 9]])"
   ]
  }
 ],
 "metadata": {
  "kernelspec": {
   "display_name": "Python 3.9.10 64-bit",
   "language": "python",
   "name": "python3"
  },
  "language_info": {
   "codemirror_mode": {
    "name": "ipython",
    "version": 3
   },
   "file_extension": ".py",
   "mimetype": "text/x-python",
   "name": "python",
   "nbconvert_exporter": "python",
   "pygments_lexer": "ipython3",
   "version": "3.9.10"
  },
  "orig_nbformat": 4,
  "vscode": {
   "interpreter": {
    "hash": "aee8b7b246df8f9039afb4144a1f6fd8d2ca17a180786b69acc140d282b71a49"
   }
  }
 },
 "nbformat": 4,
 "nbformat_minor": 2
}
