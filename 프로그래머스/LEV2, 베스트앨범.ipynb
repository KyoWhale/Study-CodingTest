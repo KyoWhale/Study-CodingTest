{
 "cells": [
  {
   "cell_type": "code",
   "execution_count": 13,
   "metadata": {},
   "outputs": [
    {
     "data": {
      "text/plain": [
       "[4, 1, 3, 0]"
      ]
     },
     "execution_count": 13,
     "metadata": {},
     "output_type": "execute_result"
    }
   ],
   "source": [
    "# 15:49 ~ 16:08\n",
    "from collections import Counter\n",
    "\n",
    "def solution(genres, plays):\n",
    "    genre_dict = {}\n",
    "    play_counter = Counter()\n",
    "\n",
    "    index = 0\n",
    "    for genre, play in zip(genres, plays):\n",
    "        if genre not in genre_dict:\n",
    "            genre_dict[genre] = Counter({index:play})\n",
    "            play_counter[genre] = play\n",
    "        else:\n",
    "            genre_dict[genre] += Counter({index:play})\n",
    "            play_counter[genre] += play\n",
    "        index += 1\n",
    "\n",
    "    answer = []\n",
    "    for genre, _ in play_counter.most_common():\n",
    "        answer += [index for index, play in genre_dict[genre].most_common(2)]\n",
    "\n",
    "    return answer\n",
    "\n",
    "solution([\"classic\", \"pop\", \"classic\", \"classic\", \"pop\"], [500, 600, 150, 800, 2500])"
   ]
  }
 ],
 "metadata": {
  "kernelspec": {
   "display_name": "Python 3.9.10 64-bit",
   "language": "python",
   "name": "python3"
  },
  "language_info": {
   "codemirror_mode": {
    "name": "ipython",
    "version": 3
   },
   "file_extension": ".py",
   "mimetype": "text/x-python",
   "name": "python",
   "nbconvert_exporter": "python",
   "pygments_lexer": "ipython3",
   "version": "3.9.10"
  },
  "orig_nbformat": 4,
  "vscode": {
   "interpreter": {
    "hash": "aee8b7b246df8f9039afb4144a1f6fd8d2ca17a180786b69acc140d282b71a49"
   }
  }
 },
 "nbformat": 4,
 "nbformat_minor": 2
}
