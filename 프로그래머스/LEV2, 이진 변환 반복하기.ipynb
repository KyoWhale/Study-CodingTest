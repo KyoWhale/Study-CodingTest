{
 "cells": [
  {
   "cell_type": "code",
   "execution_count": 10,
   "metadata": {},
   "outputs": [
    {
     "data": {
      "text/plain": [
       "[4, 1]"
      ]
     },
     "execution_count": 10,
     "metadata": {},
     "output_type": "execute_result"
    }
   ],
   "source": [
    "# 13:52 ~ 14:01\n",
    "\n",
    "def solution(s):\n",
    "    total_zero = 0\n",
    "    total_repeat = 0\n",
    "    while s != '1':\n",
    "        zero = s.count('0')\n",
    "        one = len(s) - zero\n",
    "        \n",
    "        s = bin(one)[2:]\n",
    "        total_zero += zero\n",
    "        total_repeat += 1\n",
    "\n",
    "    return [total_repeat, total_zero]\n",
    "\n",
    "solution(\"110010101001\")\n",
    "solution(\"01110\")\n",
    "solution(\"1111111\")"
   ]
  }
 ],
 "metadata": {
  "kernelspec": {
   "display_name": "Python 3.9.10 64-bit",
   "language": "python",
   "name": "python3"
  },
  "language_info": {
   "codemirror_mode": {
    "name": "ipython",
    "version": 3
   },
   "file_extension": ".py",
   "mimetype": "text/x-python",
   "name": "python",
   "nbconvert_exporter": "python",
   "pygments_lexer": "ipython3",
   "version": "3.9.10"
  },
  "orig_nbformat": 4,
  "vscode": {
   "interpreter": {
    "hash": "aee8b7b246df8f9039afb4144a1f6fd8d2ca17a180786b69acc140d282b71a49"
   }
  }
 },
 "nbformat": 4,
 "nbformat_minor": 2
}
