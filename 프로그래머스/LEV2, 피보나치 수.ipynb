{
 "cells": [
  {
   "cell_type": "code",
   "execution_count": 3,
   "metadata": {},
   "outputs": [
    {
     "data": {
      "text/plain": [
       "5"
      ]
     },
     "execution_count": 3,
     "metadata": {},
     "output_type": "execute_result"
    }
   ],
   "source": [
    "# 14:02 ~ 14:04\n",
    "\n",
    "def solution(n):\n",
    "    fibo = [0] * (n+1)\n",
    "    fibo[0] = 0\n",
    "    fibo[1] = 1\n",
    "\n",
    "    for i in range(2, n+1):\n",
    "        fibo[i] = fibo[i-1] + fibo[i-2]\n",
    "\n",
    "    return fibo[n] % 1234567\n",
    "\n",
    "solution(3)\n",
    "solution(5)"
   ]
  }
 ],
 "metadata": {
  "kernelspec": {
   "display_name": "Python 3.9.10 64-bit",
   "language": "python",
   "name": "python3"
  },
  "language_info": {
   "codemirror_mode": {
    "name": "ipython",
    "version": 3
   },
   "file_extension": ".py",
   "mimetype": "text/x-python",
   "name": "python",
   "nbconvert_exporter": "python",
   "pygments_lexer": "ipython3",
   "version": "3.9.10"
  },
  "orig_nbformat": 4,
  "vscode": {
   "interpreter": {
    "hash": "aee8b7b246df8f9039afb4144a1f6fd8d2ca17a180786b69acc140d282b71a49"
   }
  }
 },
 "nbformat": 4,
 "nbformat_minor": 2
}
