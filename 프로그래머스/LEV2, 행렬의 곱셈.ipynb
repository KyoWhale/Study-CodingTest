{
 "cells": [
  {
   "cell_type": "code",
   "execution_count": 30,
   "metadata": {},
   "outputs": [
    {
     "data": {
      "text/plain": [
       "[[22, 22, 11], [36, 28, 18], [29, 20, 14]]"
      ]
     },
     "execution_count": 30,
     "metadata": {},
     "output_type": "execute_result"
    }
   ],
   "source": [
    "# 14:18 ~ 14:55\n",
    "\n",
    "def solution(arr1, arr2):\n",
    "    answer = []\n",
    "\n",
    "    for y in range(len(arr1)):\n",
    "        col = []\n",
    "        for x in range(len(arr2[0])):\n",
    "            element_sum = 0\n",
    "            for back_y in range(len(arr1[0])):\n",
    "                element_sum += arr1[y][back_y] * arr2[back_y][x]\n",
    "            col.append(element_sum)\n",
    "        answer.append(col)\n",
    "\n",
    "    return answer\n",
    "\n",
    "# solution([[1, 4], [3, 2], [4, 1]], [[3, 3], [3, 3]])\n",
    "solution([[2, 3, 2], [4, 2, 4], [3, 1, 4]], [[5, 4, 3], [2, 4, 1], [3, 1, 1]])\n",
    "\n",
    "# 2 3 2 / 5 4 3\n",
    "# 4 2 4 / 2 4 1\n",
    "# 3 1 4 / 3 1 1"
   ]
  }
 ],
 "metadata": {
  "kernelspec": {
   "display_name": "Python 3.9.10 64-bit",
   "language": "python",
   "name": "python3"
  },
  "language_info": {
   "codemirror_mode": {
    "name": "ipython",
    "version": 3
   },
   "file_extension": ".py",
   "mimetype": "text/x-python",
   "name": "python",
   "nbconvert_exporter": "python",
   "pygments_lexer": "ipython3",
   "version": "3.9.10"
  },
  "orig_nbformat": 4,
  "vscode": {
   "interpreter": {
    "hash": "aee8b7b246df8f9039afb4144a1f6fd8d2ca17a180786b69acc140d282b71a49"
   }
  }
 },
 "nbformat": 4,
 "nbformat_minor": 2
}
