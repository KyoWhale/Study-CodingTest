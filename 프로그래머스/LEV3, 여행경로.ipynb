{
 "cells": [
  {
   "cell_type": "code",
   "execution_count": 93,
   "metadata": {},
   "outputs": [
    {
     "name": "stdout",
     "output_type": "stream",
     "text": [
      "['ICN'] ['ICN', 'A'] ['A'] []\n",
      "['ICN', 'A'] ['ICN', 'A', 'B'] ['B', 'C'] ['C']\n",
      "['ICN', 'A'] ['ICN', 'A', 'C'] ['B', 'C'] ['B']\n",
      "['ICN', 'A', 'C'] ['ICN', 'A', 'C', 'A'] ['A'] []\n",
      "['ICN', 'A', 'C', 'A'] ['ICN', 'A', 'C', 'A', 'B'] ['B'] []\n"
     ]
    },
    {
     "data": {
      "text/plain": [
       "['ICN', 'A', 'C', 'A', 'B', 'D']"
      ]
     },
     "execution_count": 93,
     "metadata": {},
     "output_type": "execute_result"
    }
   ],
   "source": [
    "# 14:12 ~ 15:23\n",
    "\n",
    "answer = []\n",
    "is_finish = False\n",
    "\n",
    "def solution(tickets):\n",
    "    global answer\n",
    "\n",
    "    dic = {}\n",
    "    for start, end in tickets:\n",
    "        if start in dic:\n",
    "            dic[start].append(end)\n",
    "        else:\n",
    "            dic[start] = [end]\n",
    "\n",
    "    for key in dic.keys():\n",
    "        dic[key] = sorted(dic[key])\n",
    "    \n",
    "    dfs(dic.copy(), [\"ICN\"].copy(), len(tickets))\n",
    "\n",
    "    return answer\n",
    "\n",
    "def dfs(dic, path, remain_ports):\n",
    "    global answer, is_finish\n",
    "    if is_finish:\n",
    "        return\n",
    "\n",
    "    start_list = dic[path[-1]].copy()\n",
    "\n",
    "    if remain_ports == 1:\n",
    "        if len(start_list) == 0:\n",
    "            return\n",
    "        path.append(start_list[0])\n",
    "        answer = path\n",
    "        is_finish = True\n",
    "        return\n",
    "\n",
    "    for i, start in enumerate(start_list):\n",
    "        if start in dic and len(dic[start]) > 0:\n",
    "            new_dic = dic.copy()\n",
    "            new_list = new_dic[path[-1]].copy()\n",
    "            new_list.pop(i)\n",
    "            new_dic[path[-1]] = new_list\n",
    "\n",
    "            new_path = path.copy()\n",
    "            new_path.append(start)\n",
    "            dfs(new_dic.copy(), new_path.copy(), remain_ports - 1)\n",
    "\n",
    "# solution([[\"ICN\", \"JFK\"], [\"HND\", \"IAD\"], [\"JFK\", \"HND\"]])\n",
    "# solution([[\"ICN\", \"SFO\"], [\"ICN\", \"ATL\"], [\"SFO\", \"ATL\"], [\"ATL\", \"ICN\"], [\"ATL\",\"SFO\"]])\n",
    "# solution([[\"ICN\", \"AAA\"], [\"ICN\", \"AAA\"], [\"ICN\", \"AAA\"], [\"AAA\", \"ICN\"], [\"AAA\", \"ICN\"]])\n",
    "solution([[\"ICN\", \"A\"], [\"A\", \"B\"], [\"A\", \"C\"], [\"C\", \"A\"], [\"B\", \"D\"]])"
   ]
  },
  {
   "cell_type": "code",
   "execution_count": 109,
   "metadata": {},
   "outputs": [
    {
     "name": "stdout",
     "output_type": "stream",
     "text": [
      "STACK : ['ICN']\n",
      "PATH : []\n",
      "ROUTES : {'ICN': ['AAA', 'AAA', 'AAA'], 'AAA': ['ICN', 'ICN']}\n",
      "STACK APPEND, ROUTE -1\n",
      "\n",
      "STACK : ['ICN', 'AAA']\n",
      "PATH : []\n",
      "ROUTES : {'ICN': ['AAA', 'AAA'], 'AAA': ['ICN', 'ICN']}\n",
      "STACK APPEND, ROUTE -1\n",
      "\n",
      "STACK : ['ICN', 'AAA', 'ICN']\n",
      "PATH : []\n",
      "ROUTES : {'ICN': ['AAA', 'AAA'], 'AAA': ['ICN']}\n",
      "STACK APPEND, ROUTE -1\n",
      "\n",
      "STACK : ['ICN', 'AAA', 'ICN', 'AAA']\n",
      "PATH : []\n",
      "ROUTES : {'ICN': ['AAA'], 'AAA': ['ICN']}\n",
      "STACK APPEND, ROUTE -1\n",
      "\n",
      "STACK : ['ICN', 'AAA', 'ICN', 'AAA', 'ICN']\n",
      "PATH : []\n",
      "ROUTES : {'ICN': ['AAA'], 'AAA': []}\n",
      "STACK APPEND, ROUTE -1\n",
      "\n",
      "STACK : ['ICN', 'AAA', 'ICN', 'AAA', 'ICN', 'AAA']\n",
      "PATH : []\n",
      "ROUTES : {'ICN': [], 'AAA': []}\n",
      "STACK POP\n",
      "\n",
      "STACK : ['ICN', 'AAA', 'ICN', 'AAA', 'ICN']\n",
      "PATH : ['AAA']\n",
      "ROUTES : {'ICN': [], 'AAA': []}\n",
      "STACK POP\n",
      "\n",
      "STACK : ['ICN', 'AAA', 'ICN', 'AAA']\n",
      "PATH : ['AAA', 'ICN']\n",
      "ROUTES : {'ICN': [], 'AAA': []}\n",
      "STACK POP\n",
      "\n",
      "STACK : ['ICN', 'AAA', 'ICN']\n",
      "PATH : ['AAA', 'ICN', 'AAA']\n",
      "ROUTES : {'ICN': [], 'AAA': []}\n",
      "STACK POP\n",
      "\n",
      "STACK : ['ICN', 'AAA']\n",
      "PATH : ['AAA', 'ICN', 'AAA', 'ICN']\n",
      "ROUTES : {'ICN': [], 'AAA': []}\n",
      "STACK POP\n",
      "\n",
      "STACK : ['ICN']\n",
      "PATH : ['AAA', 'ICN', 'AAA', 'ICN', 'AAA']\n",
      "ROUTES : {'ICN': [], 'AAA': []}\n",
      "STACK POP\n",
      "\n"
     ]
    },
    {
     "data": {
      "text/plain": [
       "['ICN', 'AAA', 'ICN', 'AAA', 'ICN', 'AAA']"
      ]
     },
     "execution_count": 109,
     "metadata": {},
     "output_type": "execute_result"
    }
   ],
   "source": [
    "# 다른 사람 풀이 보고 따라한 코드\n",
    "\n",
    "def solution(tickets):\n",
    "    routes = {}\n",
    "\n",
    "    for ticket in tickets:\n",
    "        routes[ticket[0]] = routes.get(ticket[0], []) + [ticket[1]]\n",
    "    for route in routes:\n",
    "        routes[route].sort(reverse=True)\n",
    "    \n",
    "    stack = [\"ICN\"]\n",
    "    path = []\n",
    "\n",
    "    while stack:\n",
    "        print(\"STACK :\", stack)\n",
    "        print(\"PATH :\", path)\n",
    "        print(\"ROUTES :\", routes)\n",
    "        top = stack[-1]\n",
    "        if top not in routes or len(routes[top]) == 0:\n",
    "            path.append(stack.pop())\n",
    "            print(\"STACK POP\")\n",
    "        else:\n",
    "            stack.append(routes[top][-1])\n",
    "            routes[top] = routes[top][:-1]\n",
    "            print(\"STACK APPEND, ROUTE -1\")\n",
    "        print()\n",
    "\n",
    "    return path[::-1]\n",
    "\n",
    "# solution([[\"ICN\", \"JFK\"], [\"HND\", \"IAD\"], [\"JFK\", \"HND\"]])\n",
    "# solution([[\"ICN\", \"SFO\"], [\"ICN\", \"ATL\"], [\"SFO\", \"ATL\"], [\"ATL\", \"ICN\"], [\"ATL\",\"SFO\"]])\n",
    "solution([[\"ICN\", \"AAA\"], [\"ICN\", \"AAA\"], [\"ICN\", \"AAA\"], [\"AAA\", \"ICN\"], [\"AAA\", \"ICN\"]])\n",
    "# solution([[\"ICN\", \"A\"], [\"A\", \"B\"], [\"A\", \"C\"], [\"C\", \"A\"], [\"B\", \"D\"]])"
   ]
  }
 ],
 "metadata": {
  "kernelspec": {
   "display_name": "Python 3.9.10 64-bit",
   "language": "python",
   "name": "python3"
  },
  "language_info": {
   "codemirror_mode": {
    "name": "ipython",
    "version": 3
   },
   "file_extension": ".py",
   "mimetype": "text/x-python",
   "name": "python",
   "nbconvert_exporter": "python",
   "pygments_lexer": "ipython3",
   "version": "3.9.10"
  },
  "orig_nbformat": 4,
  "vscode": {
   "interpreter": {
    "hash": "aee8b7b246df8f9039afb4144a1f6fd8d2ca17a180786b69acc140d282b71a49"
   }
  }
 },
 "nbformat": 4,
 "nbformat_minor": 2
}
