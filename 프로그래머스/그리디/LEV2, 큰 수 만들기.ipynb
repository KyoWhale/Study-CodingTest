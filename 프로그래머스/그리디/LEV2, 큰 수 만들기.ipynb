{
 "cells": [
  {
   "cell_type": "code",
   "execution_count": 3,
   "metadata": {},
   "outputs": [
    {
     "data": {
      "text/plain": [
       "'775841'"
      ]
     },
     "execution_count": 3,
     "metadata": {},
     "output_type": "execute_result"
    }
   ],
   "source": [
    "# 17:32 ~ X 답 봄\n",
    "\n",
    "def solution(number, k):\n",
    "    answer = []\n",
    "    \n",
    "    for n in number:\n",
    "        while answer and answer[-1] < n and k > 0:\n",
    "            answer.pop()\n",
    "            k -= 1\n",
    "\n",
    "        answer.append(n)\n",
    "\n",
    "    return \"\".join(answer[:len(answer)-k])\n",
    "\n",
    "solution(\"4177252841\", 4)"
   ]
  }
 ],
 "metadata": {
  "kernelspec": {
   "display_name": "Python 3.9.10 64-bit",
   "language": "python",
   "name": "python3"
  },
  "language_info": {
   "codemirror_mode": {
    "name": "ipython",
    "version": 3
   },
   "file_extension": ".py",
   "mimetype": "text/x-python",
   "name": "python",
   "nbconvert_exporter": "python",
   "pygments_lexer": "ipython3",
   "version": "3.9.10"
  },
  "orig_nbformat": 4,
  "vscode": {
   "interpreter": {
    "hash": "aee8b7b246df8f9039afb4144a1f6fd8d2ca17a180786b69acc140d282b71a49"
   }
  }
 },
 "nbformat": 4,
 "nbformat_minor": 2
}
