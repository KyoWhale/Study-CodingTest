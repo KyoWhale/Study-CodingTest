{
 "cells": [
  {
   "cell_type": "code",
   "execution_count": 27,
   "metadata": {},
   "outputs": [
    {
     "data": {
      "text/plain": [
       "1"
      ]
     },
     "execution_count": 27,
     "metadata": {},
     "output_type": "execute_result"
    }
   ],
   "source": [
    "# 16:10 ~ 16:36 X 실패, 유니온파인드 안 쓰려다 망함\n",
    "\n",
    "from itertools import combinations\n",
    "\n",
    "def solution(n, wires):\n",
    "    answer = 10e9\n",
    "    for combination in list(combinations(wires, len(wires)-1)):\n",
    "        wire_set, cnt = set([1]), 0\n",
    "        for top1, top2 in combination:\n",
    "            if top1 in wire_set or top2 in wire_set:\n",
    "                wire_set.add(top1)\n",
    "                wire_set.add(top2)\n",
    "        for top1, top2 in combination[::-1]:\n",
    "            if top1 in wire_set or top2 in wire_set:\n",
    "                wire_set.add(top1)\n",
    "                wire_set.add(top2)\n",
    "\n",
    "        answer = min(answer, abs(2 * len(wire_set) - n))\n",
    "    return answer\n",
    "\n",
    "solution(9, [[1,3],[2,3],[3,4],[4,5],[4,6],[4,7],[7,8],[7,9]])\n",
    "solution(4, [[1,2],[2,3],[3,4]])\n",
    "solution(7, [[1,2],[2,7],[3,7],[3,4],[4,5],[6,7]])"
   ]
  },
  {
   "cell_type": "code",
   "execution_count": 36,
   "metadata": {},
   "outputs": [
    {
     "data": {
      "text/plain": [
       "3"
      ]
     },
     "execution_count": 36,
     "metadata": {},
     "output_type": "execute_result"
    }
   ],
   "source": [
    "# 16:35 ~ 16:52\n",
    "from itertools import combinations\n",
    "\n",
    "def find(x, parent):\n",
    "    if parent[x] != x:\n",
    "        parent[x] = find(parent[x], parent)\n",
    "    return parent[x]\n",
    "\n",
    "def union(a, b, parent):\n",
    "    a = find(a, parent)\n",
    "    b = find(b, parent)\n",
    "\n",
    "    if a < b:\n",
    "        parent[b] = a\n",
    "    else:\n",
    "        parent[a] = b\n",
    "\n",
    "def solution(n, wires):\n",
    "    answer = 10e9\n",
    "    for combination in list(combinations(wires, len(wires)-1)):\n",
    "        rootParent = {}\n",
    "        parent = [i for i in range(n+1)]\n",
    "        \n",
    "        for w1, w2 in combination:\n",
    "            union(w1, w2, parent)\n",
    "\n",
    "        for p in parent[1:]:\n",
    "            root = find(p, parent)\n",
    "            if root in rootParent:\n",
    "                rootParent[root] += 1\n",
    "            else:\n",
    "                rootParent[root] = 1\n",
    "\n",
    "        parts = list(rootParent.values())\n",
    "        answer = min(answer, abs(parts[0]-parts[1]))\n",
    "\n",
    "    return answer\n",
    "\n",
    "solution(9, [[1,3],[2,3],[3,4],[4,5],[4,6],[4,7],[7,8],[7,9]])"
   ]
  }
 ],
 "metadata": {
  "kernelspec": {
   "display_name": "Python 3.9.10 64-bit",
   "language": "python",
   "name": "python3"
  },
  "language_info": {
   "codemirror_mode": {
    "name": "ipython",
    "version": 3
   },
   "file_extension": ".py",
   "mimetype": "text/x-python",
   "name": "python",
   "nbconvert_exporter": "python",
   "pygments_lexer": "ipython3",
   "version": "3.9.10"
  },
  "orig_nbformat": 4,
  "vscode": {
   "interpreter": {
    "hash": "aee8b7b246df8f9039afb4144a1f6fd8d2ca17a180786b69acc140d282b71a49"
   }
  }
 },
 "nbformat": 4,
 "nbformat_minor": 2
}
