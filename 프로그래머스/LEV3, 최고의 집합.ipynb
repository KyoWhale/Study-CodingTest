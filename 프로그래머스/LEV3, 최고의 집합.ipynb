{
 "cells": [
  {
   "cell_type": "code",
   "execution_count": 42,
   "metadata": {},
   "outputs": [
    {
     "data": {
      "text/plain": [
       "[4, 5]"
      ]
     },
     "execution_count": 42,
     "metadata": {},
     "output_type": "execute_result"
    }
   ],
   "source": [
    "# 16:28 ~ X\n",
    "\n",
    "def solution(n, s):\n",
    "    answer = []\n",
    "    \n",
    "    share = s // n\n",
    "    remain = s % n\n",
    "\n",
    "    if share == 0:\n",
    "        return [-1]\n",
    "\n",
    "    answer += [share] * (n - remain)\n",
    "    answer += [share+1] * remain\n",
    "\n",
    "    return answer\n",
    "\n",
    "solution(2, 9)"
   ]
  }
 ],
 "metadata": {
  "kernelspec": {
   "display_name": "Python 3.9.10 64-bit",
   "language": "python",
   "name": "python3"
  },
  "language_info": {
   "codemirror_mode": {
    "name": "ipython",
    "version": 3
   },
   "file_extension": ".py",
   "mimetype": "text/x-python",
   "name": "python",
   "nbconvert_exporter": "python",
   "pygments_lexer": "ipython3",
   "version": "3.9.10"
  },
  "orig_nbformat": 4,
  "vscode": {
   "interpreter": {
    "hash": "aee8b7b246df8f9039afb4144a1f6fd8d2ca17a180786b69acc140d282b71a49"
   }
  }
 },
 "nbformat": 4,
 "nbformat_minor": 2
}
