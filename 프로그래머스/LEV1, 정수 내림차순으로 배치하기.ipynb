{
 "cells": [
  {
   "cell_type": "code",
   "execution_count": 4,
   "metadata": {},
   "outputs": [
    {
     "data": {
      "text/plain": [
       "863211"
      ]
     },
     "execution_count": 4,
     "metadata": {},
     "output_type": "execute_result"
    }
   ],
   "source": [
    "# 14:09 ~ 14:10\n",
    "\n",
    "def solution(n):\n",
    "    counts = [0] * 10\n",
    "    for c in str(n):\n",
    "        counts[int(c)] += 1\n",
    "\n",
    "    answer = \"\"\n",
    "    for i in range(9, -1, -1):\n",
    "        answer += str(i) * counts[i]\n",
    "    return int(answer)\n",
    "\n",
    "solution(118362)"
   ]
  }
 ],
 "metadata": {
  "kernelspec": {
   "display_name": "Python 3.9.10 64-bit",
   "language": "python",
   "name": "python3"
  },
  "language_info": {
   "codemirror_mode": {
    "name": "ipython",
    "version": 3
   },
   "file_extension": ".py",
   "mimetype": "text/x-python",
   "name": "python",
   "nbconvert_exporter": "python",
   "pygments_lexer": "ipython3",
   "version": "3.9.10"
  },
  "orig_nbformat": 4,
  "vscode": {
   "interpreter": {
    "hash": "aee8b7b246df8f9039afb4144a1f6fd8d2ca17a180786b69acc140d282b71a49"
   }
  }
 },
 "nbformat": 4,
 "nbformat_minor": 2
}
