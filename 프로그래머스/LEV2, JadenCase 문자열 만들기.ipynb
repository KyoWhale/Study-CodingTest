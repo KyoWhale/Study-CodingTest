{
 "cells": [
  {
   "cell_type": "code",
   "execution_count": 43,
   "metadata": {},
   "outputs": [
    {
     "data": {
      "text/plain": [
       "'3people 3un Fo Ooooood Me M E A D'"
      ]
     },
     "execution_count": 43,
     "metadata": {},
     "output_type": "execute_result"
    }
   ],
   "source": [
    "# 14:14 ~ 14:40\n",
    "\n",
    "#이거로 왜 안되는지 모르겠음, 빈 공백의 갯수가 달라질 때 안 된다는 댓글이 많았는데\n",
    "# 1번 방법\n",
    "    # answer = []\n",
    "    # for word in s.split():\n",
    "    #     answer.append(word[0].upper()+word[1:].lower())\n",
    "    # return ' '.join(answer)\n",
    "# 2번 방법\n",
    "    # words = [word.capitalize() for word in s.split()]\n",
    "    # return ' '.join(words)\n",
    "\n",
    "def solution(s):\n",
    "    answer = ''\n",
    "    \n",
    "    words = s.split(' ')\n",
    "    \n",
    "    for i in range(len(words)):\n",
    "        words[i] = words[i].capitalize()\n",
    "        \n",
    "    answer = ' '.join(words)\n",
    "    \n",
    "    return answer\n",
    "\n",
    "solution(\"3people unFollowed me\")\n",
    "# solution(\"for the last week\")\n",
    "# solution(\" \")\n",
    "solution(\" 3people 3un FO  OOOOOOd me     M e a d\")"
   ]
  }
 ],
 "metadata": {
  "kernelspec": {
   "display_name": "Python 3.9.10 64-bit",
   "language": "python",
   "name": "python3"
  },
  "language_info": {
   "codemirror_mode": {
    "name": "ipython",
    "version": 3
   },
   "file_extension": ".py",
   "mimetype": "text/x-python",
   "name": "python",
   "nbconvert_exporter": "python",
   "pygments_lexer": "ipython3",
   "version": "3.9.10"
  },
  "orig_nbformat": 4,
  "vscode": {
   "interpreter": {
    "hash": "aee8b7b246df8f9039afb4144a1f6fd8d2ca17a180786b69acc140d282b71a49"
   }
  }
 },
 "nbformat": 4,
 "nbformat_minor": 2
}
