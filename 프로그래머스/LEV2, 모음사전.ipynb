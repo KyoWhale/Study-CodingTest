{
 "cells": [
  {
   "cell_type": "code",
   "execution_count": 60,
   "metadata": {},
   "outputs": [
    {
     "data": {
      "text/plain": [
       "10"
      ]
     },
     "execution_count": 60,
     "metadata": {},
     "output_type": "execute_result"
    }
   ],
   "source": [
    "# 16:58 ~ 17:29 X 접근방식은 같았지만 풀지는 못해서 찾아봄\n",
    "\n",
    "ALPHA = 'AEIOU'\n",
    "\n",
    "def solution(word):\n",
    "    answer = 0\n",
    "    for i in range(len(word)):\n",
    "        index = ALPHA.find(word[i])\n",
    "        answer += 1 + (5**(5-i)-1)//4 * index\n",
    "\n",
    "    return answer\n",
    "\n",
    "solution(\"AAAE\")\n",
    "# solution(\"EEEEE\")\n",
    "# solution('EIO')"
   ]
  },
  {
   "cell_type": "code",
   "execution_count": 59,
   "metadata": {},
   "outputs": [
    {
     "data": {
      "text/plain": [
       "10"
      ]
     },
     "execution_count": 59,
     "metadata": {},
     "output_type": "execute_result"
    }
   ],
   "source": [
    "from itertools import product\n",
    "\n",
    "def solution(word):\n",
    "    ALPHA_LIST = []\n",
    "    for i in range(5):\n",
    "        for p in product(\"AEIOU\", repeat=i+1):\n",
    "            s = ''.join(p)\n",
    "            ALPHA_LIST.append(s)\n",
    "\n",
    "    ALPHA_LIST.sort()\n",
    "    return ALPHA_LIST.index(word) + 1\n",
    "\n",
    "solution(\"AAAE\")"
   ]
  }
 ],
 "metadata": {
  "kernelspec": {
   "display_name": "Python 3.9.10 64-bit",
   "language": "python",
   "name": "python3"
  },
  "language_info": {
   "codemirror_mode": {
    "name": "ipython",
    "version": 3
   },
   "file_extension": ".py",
   "mimetype": "text/x-python",
   "name": "python",
   "nbconvert_exporter": "python",
   "pygments_lexer": "ipython3",
   "version": "3.9.10"
  },
  "orig_nbformat": 4,
  "vscode": {
   "interpreter": {
    "hash": "aee8b7b246df8f9039afb4144a1f6fd8d2ca17a180786b69acc140d282b71a49"
   }
  }
 },
 "nbformat": 4,
 "nbformat_minor": 2
}
