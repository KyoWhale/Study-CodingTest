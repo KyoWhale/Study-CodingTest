{
 "cells": [
  {
   "cell_type": "code",
   "execution_count": 17,
   "metadata": {},
   "outputs": [
    {
     "data": {
      "text/plain": [
       "[6, 5]"
      ]
     },
     "execution_count": 17,
     "metadata": {},
     "output_type": "execute_result"
    }
   ],
   "source": [
    "# 12:37 ~ 12:54\n",
    "\n",
    "import heapq\n",
    "\n",
    "def solution(operations):\n",
    "    small_list = []\n",
    "    big_list = []\n",
    "    total_count = 0\n",
    "\n",
    "    for op in operations:\n",
    "        ins, value = op.split()\n",
    "        if ins == 'I':\n",
    "            total_count += 1\n",
    "            heapq.heappush(small_list, int(value))\n",
    "            heapq.heappush(big_list, -int(value))\n",
    "        else:\n",
    "            total_count -= 1\n",
    "            if total_count <= 0:\n",
    "                small_list = []\n",
    "                big_list = []\n",
    "                continue\n",
    "            if value == '-1':\n",
    "                heapq.heappop(small_list)\n",
    "            elif value == '1':\n",
    "                heapq.heappop(big_list)\n",
    "\n",
    "    if total_count > 0:\n",
    "        return [-heapq.heappop(big_list), heapq.heappop(small_list)]\n",
    "    else:\n",
    "        return [0,0]\n",
    "\n",
    "solution([\"I 16\", \"I -5643\", \"D -1\", \"D 1\", \"D 1\", \"I 123\", \"D -1\"])\n",
    "solution([\"I -45\", \"I 653\", \"D 1\", \"I -642\", \"I 45\", \"I 97\", \"D 1\", \"D -1\", \"I 333\"]\t)\n",
    "solution([\"I 4\", \"I 3\", \"I 2\", \"I 1\", \"D 1\", \"D 1\", \"D -1\", \"D -1\", \"I 5\", \"I 6\"] )"
   ]
  }
 ],
 "metadata": {
  "kernelspec": {
   "display_name": "Python 3.9.10 64-bit",
   "language": "python",
   "name": "python3"
  },
  "language_info": {
   "codemirror_mode": {
    "name": "ipython",
    "version": 3
   },
   "file_extension": ".py",
   "mimetype": "text/x-python",
   "name": "python",
   "nbconvert_exporter": "python",
   "pygments_lexer": "ipython3",
   "version": "3.9.10"
  },
  "orig_nbformat": 4,
  "vscode": {
   "interpreter": {
    "hash": "aee8b7b246df8f9039afb4144a1f6fd8d2ca17a180786b69acc140d282b71a49"
   }
  }
 },
 "nbformat": 4,
 "nbformat_minor": 2
}
