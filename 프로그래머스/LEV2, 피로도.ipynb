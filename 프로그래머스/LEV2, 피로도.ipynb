{
 "cells": [
  {
   "cell_type": "code",
   "execution_count": 27,
   "metadata": {},
   "outputs": [
    {
     "name": "stdout",
     "output_type": "stream",
     "text": [
      "40 40 20\n",
      "curr\n",
      "20 10 10\n",
      "last\n",
      "10 10 10\n",
      "curr\n",
      "0 10 10\n"
     ]
    },
    {
     "data": {
      "text/plain": [
       "3"
      ]
     },
     "execution_count": 27,
     "metadata": {},
     "output_type": "execute_result"
    }
   ],
   "source": [
    "# 15:30 ~ 16:04 X 아래 풀이 실패\n",
    "\n",
    "def solution(k, dungeons):\n",
    "    answer, i = 0, 0\n",
    "    dungeons.sort(key=lambda x:(-x[0],x[1]))\n",
    "\n",
    "    while i + 1 < len(dungeons):\n",
    "        curr_min_need, curr_cost = dungeons[i]\n",
    "        print(k, curr_min_need, curr_cost)\n",
    "        last_min_need, last_cost = dungeons[-1]\n",
    "        if k - last_cost >= curr_min_need:\n",
    "            print(\"last\")\n",
    "            dungeons.pop(len(dungeons)-1)\n",
    "            k -= last_cost\n",
    "            answer += 1\n",
    "            continue\n",
    "        elif k >= curr_min_need:\n",
    "            print(\"curr\")\n",
    "            dungeons.pop(0)\n",
    "            k -= curr_cost\n",
    "            answer += 1\n",
    "\n",
    "        i += 1\n",
    "\n",
    "    print(k, curr_min_need, curr_cost)\n",
    "    if k >= dungeons[-1][0]:\n",
    "        answer += 1\n",
    "\n",
    "    return answer\n",
    "\n",
    "# solution(80, [[80,20],[50,40],[30,10]])\n",
    "solution(40, [[40, 20], [10, 10], [10, 10], [10, 10], [10, 10]])"
   ]
  },
  {
   "cell_type": "code",
   "execution_count": 30,
   "metadata": {},
   "outputs": [
    {
     "data": {
      "text/plain": [
       "3"
      ]
     },
     "execution_count": 30,
     "metadata": {},
     "output_type": "execute_result"
    }
   ],
   "source": [
    "# 16:04 ~ 16:07\n",
    "\n",
    "from itertools import permutations\n",
    "\n",
    "def solution(k, dungeons):\n",
    "    answer = 0\n",
    "    for permutation in list(permutations(dungeons)):\n",
    "        cur_k = k\n",
    "        cur_count = 0\n",
    "        for min_need, cost in permutation:\n",
    "            if cur_k >= min_need:\n",
    "                cur_k -= cost\n",
    "                cur_count += 1\n",
    "\n",
    "        answer = max(cur_count, answer)\n",
    "    return answer\n",
    "\n",
    "solution(40, [[40, 20], [10, 10], [10, 10], [10, 10], [10, 10]])\n",
    "solution(80, [[80,20],[50,40],[30,10]])"
   ]
  }
 ],
 "metadata": {
  "kernelspec": {
   "display_name": "Python 3.9.10 64-bit",
   "language": "python",
   "name": "python3"
  },
  "language_info": {
   "codemirror_mode": {
    "name": "ipython",
    "version": 3
   },
   "file_extension": ".py",
   "mimetype": "text/x-python",
   "name": "python",
   "nbconvert_exporter": "python",
   "pygments_lexer": "ipython3",
   "version": "3.9.10"
  },
  "orig_nbformat": 4,
  "vscode": {
   "interpreter": {
    "hash": "aee8b7b246df8f9039afb4144a1f6fd8d2ca17a180786b69acc140d282b71a49"
   }
  }
 },
 "nbformat": 4,
 "nbformat_minor": 2
}
