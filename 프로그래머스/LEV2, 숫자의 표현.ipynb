{
 "cells": [
  {
   "cell_type": "code",
   "execution_count": 15,
   "metadata": {},
   "outputs": [
    {
     "data": {
      "text/plain": [
       "4"
      ]
     },
     "execution_count": 15,
     "metadata": {},
     "output_type": "execute_result"
    }
   ],
   "source": [
    "# 13:25 ~ 13:36\n",
    "\n",
    "def solution(n):\n",
    "    if n == 1:\n",
    "        return 1\n",
    "\n",
    "    answer = 1\n",
    "\n",
    "    for i in range(1, n//2+1):\n",
    "        total = 0\n",
    "        for j in range(i, n//2+2):\n",
    "            total += j\n",
    "            if total > n:\n",
    "                break\n",
    "            elif total == n:\n",
    "                answer += 1\n",
    "                break\n",
    "\n",
    "    return answer\n",
    "\n",
    "solution(15)"
   ]
  }
 ],
 "metadata": {
  "kernelspec": {
   "display_name": "Python 3.9.10 64-bit",
   "language": "python",
   "name": "python3"
  },
  "language_info": {
   "codemirror_mode": {
    "name": "ipython",
    "version": 3
   },
   "file_extension": ".py",
   "mimetype": "text/x-python",
   "name": "python",
   "nbconvert_exporter": "python",
   "pygments_lexer": "ipython3",
   "version": "3.9.10"
  },
  "orig_nbformat": 4,
  "vscode": {
   "interpreter": {
    "hash": "aee8b7b246df8f9039afb4144a1f6fd8d2ca17a180786b69acc140d282b71a49"
   }
  }
 },
 "nbformat": 4,
 "nbformat_minor": 2
}
